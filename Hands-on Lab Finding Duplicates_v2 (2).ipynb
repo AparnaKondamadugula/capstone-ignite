{
 "cells": [
  {
   "cell_type": "markdown",
   "metadata": {},
   "source": [
    "<p style=\"text-align:center\">\n",
    "    <a href=\"https://skills.network\" target=\"_blank\">\n",
    "    <img src=\"https://cf-courses-data.s3.us.cloud-object-storage.appdomain.cloud/assets/logos/SN_web_lightmode.png\" width=\"200\" alt=\"Skills Network Logo\"  />\n",
    "    </a>\n",
    "</p>\n"
   ]
  },
  {
   "cell_type": "markdown",
   "metadata": {},
   "source": [
    "# **Finding Duplicates Lab**\n"
   ]
  },
  {
   "cell_type": "markdown",
   "metadata": {},
   "source": [
    "Estimated time needed: **30** minutes\n"
   ]
  },
  {
   "cell_type": "markdown",
   "metadata": {},
   "source": [
    "## Introduction\n"
   ]
  },
  {
   "cell_type": "markdown",
   "metadata": {},
   "source": [
    "Data wrangling is a critical step in preparing datasets for analysis, and handling duplicates plays a key role in ensuring data accuracy. In this lab, you will focus on identifying and removing duplicate entries from your dataset. \n"
   ]
  },
  {
   "cell_type": "markdown",
   "metadata": {},
   "source": [
    "## Objectives\n"
   ]
  },
  {
   "cell_type": "markdown",
   "metadata": {},
   "source": [
    "In this lab, you will perform the following:\n"
   ]
  },
  {
   "cell_type": "markdown",
   "metadata": {},
   "source": [
    "1. Identify duplicate rows in the dataset and analyze their characteristics.\n",
    "2. Visualize the distribution of duplicates based on key attributes.\n",
    "3. Remove duplicate values strategically based on specific criteria.\n",
    "4. Outline the process of verifying and documenting duplicate removal.\n"
   ]
  },
  {
   "cell_type": "markdown",
   "metadata": {},
   "source": [
    "## Hands on Lab\n"
   ]
  },
  {
   "cell_type": "markdown",
   "metadata": {},
   "source": [
    "Install the needed library\n"
   ]
  },
  {
   "cell_type": "code",
   "execution_count": 1,
   "metadata": {},
   "outputs": [
    {
     "name": "stdout",
     "output_type": "stream",
     "text": [
      "Collecting pandas\n",
      "  Downloading pandas-2.3.1-cp312-cp312-manylinux_2_17_x86_64.manylinux2014_x86_64.whl.metadata (91 kB)\n",
      "Collecting numpy>=1.26.0 (from pandas)\n",
      "  Downloading numpy-2.3.1-cp312-cp312-manylinux_2_28_x86_64.whl.metadata (62 kB)\n",
      "Requirement already satisfied: python-dateutil>=2.8.2 in /opt/conda/lib/python3.12/site-packages (from pandas) (2.9.0.post0)\n",
      "Requirement already satisfied: pytz>=2020.1 in /opt/conda/lib/python3.12/site-packages (from pandas) (2024.2)\n",
      "Collecting tzdata>=2022.7 (from pandas)\n",
      "  Downloading tzdata-2025.2-py2.py3-none-any.whl.metadata (1.4 kB)\n",
      "Requirement already satisfied: six>=1.5 in /opt/conda/lib/python3.12/site-packages (from python-dateutil>=2.8.2->pandas) (1.17.0)\n",
      "Downloading pandas-2.3.1-cp312-cp312-manylinux_2_17_x86_64.manylinux2014_x86_64.whl (12.0 MB)\n",
      "\u001b[2K   \u001b[90m━━━━━━━━━━━━━━━━━━━━━━━━━━━━━━━━━━━━━━━━\u001b[0m \u001b[32m12.0/12.0 MB\u001b[0m \u001b[31m149.6 MB/s\u001b[0m eta \u001b[36m0:00:00\u001b[0m\n",
      "\u001b[?25hDownloading numpy-2.3.1-cp312-cp312-manylinux_2_28_x86_64.whl (16.6 MB)\n",
      "\u001b[2K   \u001b[90m━━━━━━━━━━━━━━━━━━━━━━━━━━━━━━━━━━━━━━━━\u001b[0m \u001b[32m16.6/16.6 MB\u001b[0m \u001b[31m178.8 MB/s\u001b[0m eta \u001b[36m0:00:00\u001b[0m\n",
      "\u001b[?25hDownloading tzdata-2025.2-py2.py3-none-any.whl (347 kB)\n",
      "Installing collected packages: tzdata, numpy, pandas\n",
      "Successfully installed numpy-2.3.1 pandas-2.3.1 tzdata-2025.2\n",
      "Collecting matplotlib\n",
      "  Downloading matplotlib-3.10.3-cp312-cp312-manylinux_2_17_x86_64.manylinux2014_x86_64.whl.metadata (11 kB)\n",
      "Collecting contourpy>=1.0.1 (from matplotlib)\n",
      "  Downloading contourpy-1.3.2-cp312-cp312-manylinux_2_17_x86_64.manylinux2014_x86_64.whl.metadata (5.5 kB)\n",
      "Collecting cycler>=0.10 (from matplotlib)\n",
      "  Downloading cycler-0.12.1-py3-none-any.whl.metadata (3.8 kB)\n",
      "Collecting fonttools>=4.22.0 (from matplotlib)\n",
      "  Downloading fonttools-4.58.5-cp312-cp312-manylinux1_x86_64.manylinux2014_x86_64.manylinux_2_17_x86_64.manylinux_2_5_x86_64.whl.metadata (106 kB)\n",
      "Collecting kiwisolver>=1.3.1 (from matplotlib)\n",
      "  Downloading kiwisolver-1.4.8-cp312-cp312-manylinux_2_17_x86_64.manylinux2014_x86_64.whl.metadata (6.2 kB)\n",
      "Requirement already satisfied: numpy>=1.23 in /opt/conda/lib/python3.12/site-packages (from matplotlib) (2.3.1)\n",
      "Requirement already satisfied: packaging>=20.0 in /opt/conda/lib/python3.12/site-packages (from matplotlib) (24.2)\n",
      "Requirement already satisfied: pillow>=8 in /opt/conda/lib/python3.12/site-packages (from matplotlib) (11.3.0)\n",
      "Collecting pyparsing>=2.3.1 (from matplotlib)\n",
      "  Downloading pyparsing-3.2.3-py3-none-any.whl.metadata (5.0 kB)\n",
      "Requirement already satisfied: python-dateutil>=2.7 in /opt/conda/lib/python3.12/site-packages (from matplotlib) (2.9.0.post0)\n",
      "Requirement already satisfied: six>=1.5 in /opt/conda/lib/python3.12/site-packages (from python-dateutil>=2.7->matplotlib) (1.17.0)\n",
      "Downloading matplotlib-3.10.3-cp312-cp312-manylinux_2_17_x86_64.manylinux2014_x86_64.whl (8.6 MB)\n",
      "\u001b[2K   \u001b[90m━━━━━━━━━━━━━━━━━━━━━━━━━━━━━━━━━━━━━━━━\u001b[0m \u001b[32m8.6/8.6 MB\u001b[0m \u001b[31m140.5 MB/s\u001b[0m eta \u001b[36m0:00:00\u001b[0m\n",
      "\u001b[?25hDownloading contourpy-1.3.2-cp312-cp312-manylinux_2_17_x86_64.manylinux2014_x86_64.whl (323 kB)\n",
      "Downloading cycler-0.12.1-py3-none-any.whl (8.3 kB)\n",
      "Downloading fonttools-4.58.5-cp312-cp312-manylinux1_x86_64.manylinux2014_x86_64.manylinux_2_17_x86_64.manylinux_2_5_x86_64.whl (4.9 MB)\n",
      "\u001b[2K   \u001b[90m━━━━━━━━━━━━━━━━━━━━━━━━━━━━━━━━━━━━━━━━\u001b[0m \u001b[32m4.9/4.9 MB\u001b[0m \u001b[31m139.5 MB/s\u001b[0m eta \u001b[36m0:00:00\u001b[0m\n",
      "\u001b[?25hDownloading kiwisolver-1.4.8-cp312-cp312-manylinux_2_17_x86_64.manylinux2014_x86_64.whl (1.5 MB)\n",
      "\u001b[2K   \u001b[90m━━━━━━━━━━━━━━━━━━━━━━━━━━━━━━━━━━━━━━━━\u001b[0m \u001b[32m1.5/1.5 MB\u001b[0m \u001b[31m73.1 MB/s\u001b[0m eta \u001b[36m0:00:00\u001b[0m\n",
      "\u001b[?25hDownloading pyparsing-3.2.3-py3-none-any.whl (111 kB)\n",
      "Installing collected packages: pyparsing, kiwisolver, fonttools, cycler, contourpy, matplotlib\n",
      "Successfully installed contourpy-1.3.2 cycler-0.12.1 fonttools-4.58.5 kiwisolver-1.4.8 matplotlib-3.10.3 pyparsing-3.2.3\n",
      "Collecting seaborn\n",
      "  Downloading seaborn-0.13.2-py3-none-any.whl.metadata (5.4 kB)\n",
      "Requirement already satisfied: numpy!=1.24.0,>=1.20 in /opt/conda/lib/python3.12/site-packages (from seaborn) (2.3.1)\n",
      "Requirement already satisfied: pandas>=1.2 in /opt/conda/lib/python3.12/site-packages (from seaborn) (2.3.1)\n",
      "Requirement already satisfied: matplotlib!=3.6.1,>=3.4 in /opt/conda/lib/python3.12/site-packages (from seaborn) (3.10.3)\n",
      "Requirement already satisfied: contourpy>=1.0.1 in /opt/conda/lib/python3.12/site-packages (from matplotlib!=3.6.1,>=3.4->seaborn) (1.3.2)\n",
      "Requirement already satisfied: cycler>=0.10 in /opt/conda/lib/python3.12/site-packages (from matplotlib!=3.6.1,>=3.4->seaborn) (0.12.1)\n",
      "Requirement already satisfied: fonttools>=4.22.0 in /opt/conda/lib/python3.12/site-packages (from matplotlib!=3.6.1,>=3.4->seaborn) (4.58.5)\n",
      "Requirement already satisfied: kiwisolver>=1.3.1 in /opt/conda/lib/python3.12/site-packages (from matplotlib!=3.6.1,>=3.4->seaborn) (1.4.8)\n",
      "Requirement already satisfied: packaging>=20.0 in /opt/conda/lib/python3.12/site-packages (from matplotlib!=3.6.1,>=3.4->seaborn) (24.2)\n",
      "Requirement already satisfied: pillow>=8 in /opt/conda/lib/python3.12/site-packages (from matplotlib!=3.6.1,>=3.4->seaborn) (11.3.0)\n",
      "Requirement already satisfied: pyparsing>=2.3.1 in /opt/conda/lib/python3.12/site-packages (from matplotlib!=3.6.1,>=3.4->seaborn) (3.2.3)\n",
      "Requirement already satisfied: python-dateutil>=2.7 in /opt/conda/lib/python3.12/site-packages (from matplotlib!=3.6.1,>=3.4->seaborn) (2.9.0.post0)\n",
      "Requirement already satisfied: pytz>=2020.1 in /opt/conda/lib/python3.12/site-packages (from pandas>=1.2->seaborn) (2024.2)\n",
      "Requirement already satisfied: tzdata>=2022.7 in /opt/conda/lib/python3.12/site-packages (from pandas>=1.2->seaborn) (2025.2)\n",
      "Requirement already satisfied: six>=1.5 in /opt/conda/lib/python3.12/site-packages (from python-dateutil>=2.7->matplotlib!=3.6.1,>=3.4->seaborn) (1.17.0)\n",
      "Downloading seaborn-0.13.2-py3-none-any.whl (294 kB)\n",
      "Installing collected packages: seaborn\n",
      "Successfully installed seaborn-0.13.2\n"
     ]
    }
   ],
   "source": [
    "!pip install pandas\n",
    "!pip install matplotlib\n",
    "!pip install seaborn"
   ]
  },
  {
   "cell_type": "markdown",
   "metadata": {},
   "source": [
    "Import pandas module\n"
   ]
  },
  {
   "cell_type": "code",
   "execution_count": 2,
   "metadata": {},
   "outputs": [],
   "source": [
    "import pandas as pd\n"
   ]
  },
  {
   "cell_type": "markdown",
   "metadata": {},
   "source": [
    "Import matplotlib\n"
   ]
  },
  {
   "cell_type": "code",
   "execution_count": 3,
   "metadata": {},
   "outputs": [],
   "source": [
    "import matplotlib.pyplot as plt\n",
    "import seaborn as sns"
   ]
  },
  {
   "cell_type": "markdown",
   "metadata": {},
   "source": [
    "## **Load the dataset into a dataframe**\n"
   ]
  },
  {
   "cell_type": "markdown",
   "metadata": {},
   "source": [
    "<h2>Read Data</h2>\n",
    "<p>\n",
    "We utilize the <code>pandas.read_csv()</code> function for reading CSV files. However, in this version of the lab, which operates on JupyterLite, the dataset needs to be downloaded to the interface using the provided code below.\n",
    "</p>\n"
   ]
  },
  {
   "cell_type": "code",
   "execution_count": 5,
   "metadata": {},
   "outputs": [
    {
     "name": "stdout",
     "output_type": "stream",
     "text": [
      "   ResponseId                      MainBranch                 Age  \\\n",
      "0           1  I am a developer by profession  Under 18 years old   \n",
      "1           2  I am a developer by profession     35-44 years old   \n",
      "\n",
      "            Employment RemoteWork   Check  \\\n",
      "0  Employed, full-time     Remote  Apples   \n",
      "1  Employed, full-time     Remote  Apples   \n",
      "\n",
      "                                    CodingActivities  \\\n",
      "0                                              Hobby   \n",
      "1  Hobby;Contribute to open-source projects;Other...   \n",
      "\n",
      "                                        EdLevel  \\\n",
      "0                     Primary/elementary school   \n",
      "1  Bachelor’s degree (B.A., B.S., B.Eng., etc.)   \n",
      "\n",
      "                                           LearnCode  \\\n",
      "0                             Books / Physical media   \n",
      "1  Books / Physical media;Colleague;On the job tr...   \n",
      "\n",
      "                                     LearnCodeOnline  ... JobSatPoints_6  \\\n",
      "0                                                NaN  ...            NaN   \n",
      "1  Technical documentation;Blogs;Books;Written Tu...  ...            0.0   \n",
      "\n",
      "  JobSatPoints_7 JobSatPoints_8 JobSatPoints_9 JobSatPoints_10  \\\n",
      "0            NaN            NaN            NaN             NaN   \n",
      "1            0.0            0.0            0.0             0.0   \n",
      "\n",
      "  JobSatPoints_11 SurveyLength SurveyEase ConvertedCompYearly JobSat  \n",
      "0             NaN          NaN        NaN                 NaN    NaN  \n",
      "1             0.0          NaN        NaN                 NaN    NaN  \n",
      "\n",
      "[2 rows x 114 columns]\n"
     ]
    }
   ],
   "source": [
    "#Load the dataset directly from the URL\n",
    "file_path = \"https://cf-courses-data.s3.us.cloud-object-storage.appdomain.cloud/VYPrOu0Vs3I0hKLLjiPGrA/survey-data-with-duplicate.csv\"\n",
    "df = pd.read_csv(file_path)\n",
    "# Display the first few rows\n",
    "print(df.head(2))"
   ]
  },
  {
   "cell_type": "markdown",
   "metadata": {},
   "source": [
    "Load the data into a pandas dataframe:\n",
    "\n"
   ]
  },
  {
   "cell_type": "markdown",
   "metadata": {},
   "source": [
    "Note: If you are working on a local Jupyter environment, you can use the URL directly in the pandas.read_csv() function as shown below:\n",
    "\n"
   ]
  },
  {
   "cell_type": "code",
   "execution_count": 6,
   "metadata": {},
   "outputs": [],
   "source": [
    "\n",
    "df = pd.read_csv(\"https://cf-courses-data.s3.us.cloud-object-storage.appdomain.cloud/n01PQ9pSmiRX6520flujwQ/survey-data.csv\")\n"
   ]
  },
  {
   "cell_type": "markdown",
   "metadata": {},
   "source": [
    "## Identify and Analyze Duplicates\n"
   ]
  },
  {
   "cell_type": "markdown",
   "metadata": {},
   "source": [
    "### Task 1: Identify Duplicate Rows\n",
    "1. Count the number of duplicate rows in the dataset.\n",
    "3. Display the first few duplicate rows to understand their structure.\n"
   ]
  },
  {
   "cell_type": "code",
   "execution_count": 7,
   "metadata": {
    "scrolled": true
   },
   "outputs": [
    {
     "name": "stdout",
     "output_type": "stream",
     "text": [
      "0\n",
      "Empty DataFrame\n",
      "Columns: [ResponseId, MainBranch, Age, Employment, RemoteWork, Check, CodingActivities, EdLevel, LearnCode, LearnCodeOnline, TechDoc, YearsCode, YearsCodePro, DevType, OrgSize, PurchaseInfluence, BuyNewTool, BuildvsBuy, TechEndorse, Country, Currency, CompTotal, LanguageHaveWorkedWith, LanguageWantToWorkWith, LanguageAdmired, DatabaseHaveWorkedWith, DatabaseWantToWorkWith, DatabaseAdmired, PlatformHaveWorkedWith, PlatformWantToWorkWith, PlatformAdmired, WebframeHaveWorkedWith, WebframeWantToWorkWith, WebframeAdmired, EmbeddedHaveWorkedWith, EmbeddedWantToWorkWith, EmbeddedAdmired, MiscTechHaveWorkedWith, MiscTechWantToWorkWith, MiscTechAdmired, ToolsTechHaveWorkedWith, ToolsTechWantToWorkWith, ToolsTechAdmired, NEWCollabToolsHaveWorkedWith, NEWCollabToolsWantToWorkWith, NEWCollabToolsAdmired, OpSysPersonal use, OpSysProfessional use, OfficeStackAsyncHaveWorkedWith, OfficeStackAsyncWantToWorkWith, OfficeStackAsyncAdmired, OfficeStackSyncHaveWorkedWith, OfficeStackSyncWantToWorkWith, OfficeStackSyncAdmired, AISearchDevHaveWorkedWith, AISearchDevWantToWorkWith, AISearchDevAdmired, NEWSOSites, SOVisitFreq, SOAccount, SOPartFreq, SOHow, SOComm, AISelect, AISent, AIBen, AIAcc, AIComplex, AIToolCurrently Using, AIToolInterested in Using, AIToolNot interested in Using, AINextMuch more integrated, AINextNo change, AINextMore integrated, AINextLess integrated, AINextMuch less integrated, AIThreat, AIEthics, AIChallenges, TBranch, ICorPM, WorkExp, Knowledge_1, Knowledge_2, Knowledge_3, Knowledge_4, Knowledge_5, Knowledge_6, Knowledge_7, Knowledge_8, Knowledge_9, Frequency_1, Frequency_2, Frequency_3, TimeSearching, TimeAnswering, Frustration, ProfessionalTech, ProfessionalCloud, ProfessionalQuestion, ...]\n",
      "Index: []\n",
      "\n",
      "[0 rows x 114 columns]\n"
     ]
    }
   ],
   "source": [
    "## Write your code here\n",
    "duplicates = df.duplicated().sum()\n",
    "print(duplicates)\n",
    "duplicate_rows = df[df.duplicated()]\n",
    "print(duplicate_rows.head())"
   ]
  },
  {
   "cell_type": "markdown",
   "metadata": {},
   "source": [
    "### Task 2: Analyze Characteristics of Duplicates\n",
    "1. Identify duplicate rows based on selected columns such as MainBranch, Employment, and RemoteWork. Analyse which columns frequently contain identical values within these duplicate rows.\n",
    "2. Analyse the characteristics of rows that are duplicates based on a subset of columns, such as MainBranch, Employment, and RemoteWork. Determine which columns frequently have identical values across these rows.\n",
    "   \n"
   ]
  },
  {
   "cell_type": "code",
   "execution_count": 12,
   "metadata": {},
   "outputs": [
    {
     "name": "stdout",
     "output_type": "stream",
     "text": [
      "   ResponseId                      MainBranch                 Age  \\\n",
      "0           1  I am a developer by profession  Under 18 years old   \n",
      "1           2  I am a developer by profession     35-44 years old   \n",
      "2           3  I am a developer by profession     45-54 years old   \n",
      "3           4           I am learning to code     18-24 years old   \n",
      "4           5  I am a developer by profession     18-24 years old   \n",
      "\n",
      "            Employment RemoteWork   Check  \\\n",
      "0  Employed, full-time     Remote  Apples   \n",
      "1  Employed, full-time     Remote  Apples   \n",
      "2  Employed, full-time     Remote  Apples   \n",
      "3   Student, full-time        NaN  Apples   \n",
      "4   Student, full-time        NaN  Apples   \n",
      "\n",
      "                                    CodingActivities  \\\n",
      "0                                              Hobby   \n",
      "1  Hobby;Contribute to open-source projects;Other...   \n",
      "2  Hobby;Contribute to open-source projects;Other...   \n",
      "3                                                NaN   \n",
      "4                                                NaN   \n",
      "\n",
      "                                             EdLevel  \\\n",
      "0                          Primary/elementary school   \n",
      "1       Bachelor’s degree (B.A., B.S., B.Eng., etc.)   \n",
      "2    Master’s degree (M.A., M.S., M.Eng., MBA, etc.)   \n",
      "3  Some college/university study without earning ...   \n",
      "4  Secondary school (e.g. American high school, G...   \n",
      "\n",
      "                                           LearnCode  \\\n",
      "0                             Books / Physical media   \n",
      "1  Books / Physical media;Colleague;On the job tr...   \n",
      "2  Books / Physical media;Colleague;On the job tr...   \n",
      "3  Other online resources (e.g., videos, blogs, f...   \n",
      "4  Other online resources (e.g., videos, blogs, f...   \n",
      "\n",
      "                                     LearnCodeOnline  ... JobSatPoints_6  \\\n",
      "0                                                NaN  ...            NaN   \n",
      "1  Technical documentation;Blogs;Books;Written Tu...  ...            0.0   \n",
      "2  Technical documentation;Blogs;Books;Written Tu...  ...            NaN   \n",
      "3  Stack Overflow;How-to videos;Interactive tutorial  ...            NaN   \n",
      "4  Technical documentation;Blogs;Written Tutorial...  ...            NaN   \n",
      "\n",
      "  JobSatPoints_7 JobSatPoints_8 JobSatPoints_9 JobSatPoints_10  \\\n",
      "0            NaN            NaN            NaN             NaN   \n",
      "1            0.0            0.0            0.0             0.0   \n",
      "2            NaN            NaN            NaN             NaN   \n",
      "3            NaN            NaN            NaN             NaN   \n",
      "4            NaN            NaN            NaN             NaN   \n",
      "\n",
      "  JobSatPoints_11           SurveyLength SurveyEase ConvertedCompYearly JobSat  \n",
      "0             NaN                    NaN        NaN                 NaN    NaN  \n",
      "1             0.0                    NaN        NaN                 NaN    NaN  \n",
      "2             NaN  Appropriate in length       Easy                 NaN    NaN  \n",
      "3             NaN               Too long       Easy                 NaN    NaN  \n",
      "4             NaN              Too short       Easy                 NaN    NaN  \n",
      "\n",
      "[5 rows x 114 columns]\n"
     ]
    }
   ],
   "source": [
    "## Write your code here\n",
    "# Find duplicates based on selected columns\n",
    "subset_duplicates = df[df.duplicated(subset=['MainBranch', 'Employment', 'RemoteWork'], keep=False)]\n",
    "print(subset_duplicates.head())"
   ]
  },
  {
   "cell_type": "code",
   "execution_count": 13,
   "metadata": {},
   "outputs": [
    {
     "name": "stdout",
     "output_type": "stream",
     "text": [
      "                                                                                                                                            ResponseId  \\\n",
      "MainBranch                                         Employment                                         RemoteWork                                         \n",
      "I am a developer by profession                     Employed, full-time                                Hybrid (some remote, some in-person)       15286   \n",
      "                                                                                                      In-person                                   7118   \n",
      "                                                                                                      Remote                                     12191   \n",
      "                                                   Employed, full-time;Employed, part-time            Hybrid (some remote, some in-person)          78   \n",
      "                                                                                                      In-person                                     25   \n",
      "...                                                                                                                                                ...   \n",
      "I used to be a developer by profession, but no ... Not employed, but looking for work;Independent ... Remote                                         7   \n",
      "                                                   Student, full-time;Employed, part-time             Hybrid (some remote, some in-person)           2   \n",
      "                                                                                                      In-person                                      3   \n",
      "                                                                                                      Remote                                         2   \n",
      "                                                   Student, part-time;Employed, part-time             Hybrid (some remote, some in-person)           2   \n",
      "\n",
      "                                                                                                                                            Age  \\\n",
      "MainBranch                                         Employment                                         RemoteWork                                  \n",
      "I am a developer by profession                     Employed, full-time                                Hybrid (some remote, some in-person)    8   \n",
      "                                                                                                      In-person                               8   \n",
      "                                                                                                      Remote                                  8   \n",
      "                                                   Employed, full-time;Employed, part-time            Hybrid (some remote, some in-person)    5   \n",
      "                                                                                                      In-person                               2   \n",
      "...                                                                                                                                         ...   \n",
      "I used to be a developer by profession, but no ... Not employed, but looking for work;Independent ... Remote                                  4   \n",
      "                                                   Student, full-time;Employed, part-time             Hybrid (some remote, some in-person)    1   \n",
      "                                                                                                      In-person                               2   \n",
      "                                                                                                      Remote                                  2   \n",
      "                                                   Student, part-time;Employed, part-time             Hybrid (some remote, some in-person)    1   \n",
      "\n",
      "                                                                                                                                            Check  \\\n",
      "MainBranch                                         Employment                                         RemoteWork                                    \n",
      "I am a developer by profession                     Employed, full-time                                Hybrid (some remote, some in-person)      1   \n",
      "                                                                                                      In-person                                 1   \n",
      "                                                                                                      Remote                                    1   \n",
      "                                                   Employed, full-time;Employed, part-time            Hybrid (some remote, some in-person)      1   \n",
      "                                                                                                      In-person                                 1   \n",
      "...                                                                                                                                           ...   \n",
      "I used to be a developer by profession, but no ... Not employed, but looking for work;Independent ... Remote                                    1   \n",
      "                                                   Student, full-time;Employed, part-time             Hybrid (some remote, some in-person)      1   \n",
      "                                                                                                      In-person                                 1   \n",
      "                                                                                                      Remote                                    1   \n",
      "                                                   Student, part-time;Employed, part-time             Hybrid (some remote, some in-person)      1   \n",
      "\n",
      "                                                                                                                                            CodingActivities  \\\n",
      "MainBranch                                         Employment                                         RemoteWork                                               \n",
      "I am a developer by profession                     Employed, full-time                                Hybrid (some remote, some in-person)                90   \n",
      "                                                                                                      In-person                                           79   \n",
      "                                                                                                      Remote                                              87   \n",
      "                                                   Employed, full-time;Employed, part-time            Hybrid (some remote, some in-person)                29   \n",
      "                                                                                                      In-person                                           16   \n",
      "...                                                                                                                                                      ...   \n",
      "I used to be a developer by profession, but no ... Not employed, but looking for work;Independent ... Remote                                               7   \n",
      "                                                   Student, full-time;Employed, part-time             Hybrid (some remote, some in-person)                 2   \n",
      "                                                                                                      In-person                                            2   \n",
      "                                                                                                      Remote                                               2   \n",
      "                                                   Student, part-time;Employed, part-time             Hybrid (some remote, some in-person)                 2   \n",
      "\n",
      "                                                                                                                                            EdLevel  \\\n",
      "MainBranch                                         Employment                                         RemoteWork                                      \n",
      "I am a developer by profession                     Employed, full-time                                Hybrid (some remote, some in-person)        8   \n",
      "                                                                                                      In-person                                   8   \n",
      "                                                                                                      Remote                                      8   \n",
      "                                                   Employed, full-time;Employed, part-time            Hybrid (some remote, some in-person)        6   \n",
      "                                                                                                      In-person                                   2   \n",
      "...                                                                                                                                             ...   \n",
      "I used to be a developer by profession, but no ... Not employed, but looking for work;Independent ... Remote                                      4   \n",
      "                                                   Student, full-time;Employed, part-time             Hybrid (some remote, some in-person)        2   \n",
      "                                                                                                      In-person                                   3   \n",
      "                                                                                                      Remote                                      1   \n",
      "                                                   Student, part-time;Employed, part-time             Hybrid (some remote, some in-person)        2   \n",
      "\n",
      "                                                                                                                                            LearnCode  \\\n",
      "MainBranch                                         Employment                                         RemoteWork                                        \n",
      "I am a developer by profession                     Employed, full-time                                Hybrid (some remote, some in-person)        331   \n",
      "                                                                                                      In-person                                   291   \n",
      "                                                                                                      Remote                                      321   \n",
      "                                                   Employed, full-time;Employed, part-time            Hybrid (some remote, some in-person)         46   \n",
      "                                                                                                      In-person                                    18   \n",
      "...                                                                                                                                               ...   \n",
      "I used to be a developer by profession, but no ... Not employed, but looking for work;Independent ... Remote                                        6   \n",
      "                                                   Student, full-time;Employed, part-time             Hybrid (some remote, some in-person)          2   \n",
      "                                                                                                      In-person                                     3   \n",
      "                                                                                                      Remote                                        1   \n",
      "                                                   Student, part-time;Employed, part-time             Hybrid (some remote, some in-person)          2   \n",
      "\n",
      "                                                                                                                                            LearnCodeOnline  \\\n",
      "MainBranch                                         Employment                                         RemoteWork                                              \n",
      "I am a developer by profession                     Employed, full-time                                Hybrid (some remote, some in-person)             4519   \n",
      "                                                                                                      In-person                                        2560   \n",
      "                                                                                                      Remote                                           3869   \n",
      "                                                   Employed, full-time;Employed, part-time            Hybrid (some remote, some in-person)               59   \n",
      "                                                                                                      In-person                                          14   \n",
      "...                                                                                                                                                     ...   \n",
      "I used to be a developer by profession, but no ... Not employed, but looking for work;Independent ... Remote                                              6   \n",
      "                                                   Student, full-time;Employed, part-time             Hybrid (some remote, some in-person)                2   \n",
      "                                                                                                      In-person                                           3   \n",
      "                                                                                                      Remote                                              1   \n",
      "                                                   Student, part-time;Employed, part-time             Hybrid (some remote, some in-person)                2   \n",
      "\n",
      "                                                                                                                                            TechDoc  \\\n",
      "MainBranch                                         Employment                                         RemoteWork                                      \n",
      "I am a developer by profession                     Employed, full-time                                Hybrid (some remote, some in-person)       91   \n",
      "                                                                                                      In-person                                  74   \n",
      "                                                                                                      Remote                                     86   \n",
      "                                                   Employed, full-time;Employed, part-time            Hybrid (some remote, some in-person)       25   \n",
      "                                                                                                      In-person                                   7   \n",
      "...                                                                                                                                             ...   \n",
      "I used to be a developer by profession, but no ... Not employed, but looking for work;Independent ... Remote                                      4   \n",
      "                                                   Student, full-time;Employed, part-time             Hybrid (some remote, some in-person)        1   \n",
      "                                                                                                      In-person                                   2   \n",
      "                                                                                                      Remote                                      0   \n",
      "                                                   Student, part-time;Employed, part-time             Hybrid (some remote, some in-person)        2   \n",
      "\n",
      "                                                                                                                                            YearsCode  \\\n",
      "MainBranch                                         Employment                                         RemoteWork                                        \n",
      "I am a developer by profession                     Employed, full-time                                Hybrid (some remote, some in-person)         52   \n",
      "                                                                                                      In-person                                    52   \n",
      "                                                                                                      Remote                                       52   \n",
      "                                                   Employed, full-time;Employed, part-time            Hybrid (some remote, some in-person)         25   \n",
      "                                                                                                      In-person                                    10   \n",
      "...                                                                                                                                               ...   \n",
      "I used to be a developer by profession, but no ... Not employed, but looking for work;Independent ... Remote                                        6   \n",
      "                                                   Student, full-time;Employed, part-time             Hybrid (some remote, some in-person)          2   \n",
      "                                                                                                      In-person                                     3   \n",
      "                                                                                                      Remote                                        1   \n",
      "                                                   Student, part-time;Employed, part-time             Hybrid (some remote, some in-person)          2   \n",
      "\n",
      "                                                                                                                                            YearsCodePro  \\\n",
      "MainBranch                                         Employment                                         RemoteWork                                           \n",
      "I am a developer by profession                     Employed, full-time                                Hybrid (some remote, some in-person)            50   \n",
      "                                                                                                      In-person                                       52   \n",
      "                                                                                                      Remote                                          52   \n",
      "                                                   Employed, full-time;Employed, part-time            Hybrid (some remote, some in-person)            25   \n",
      "                                                                                                      In-person                                        9   \n",
      "...                                                                                                                                                  ...   \n",
      "I used to be a developer by profession, but no ... Not employed, but looking for work;Independent ... Remote                                           0   \n",
      "                                                   Student, full-time;Employed, part-time             Hybrid (some remote, some in-person)             0   \n",
      "                                                                                                      In-person                                        0   \n",
      "                                                                                                      Remote                                           0   \n",
      "                                                   Student, part-time;Employed, part-time             Hybrid (some remote, some in-person)             0   \n",
      "\n",
      "                                                                                                                                            ...  \\\n",
      "MainBranch                                         Employment                                         RemoteWork                            ...   \n",
      "I am a developer by profession                     Employed, full-time                                Hybrid (some remote, some in-person)  ...   \n",
      "                                                                                                      In-person                             ...   \n",
      "                                                                                                      Remote                                ...   \n",
      "                                                   Employed, full-time;Employed, part-time            Hybrid (some remote, some in-person)  ...   \n",
      "                                                                                                      In-person                             ...   \n",
      "...                                                                                                                                         ...   \n",
      "I used to be a developer by profession, but no ... Not employed, but looking for work;Independent ... Remote                                ...   \n",
      "                                                   Student, full-time;Employed, part-time             Hybrid (some remote, some in-person)  ...   \n",
      "                                                                                                      In-person                             ...   \n",
      "                                                                                                      Remote                                ...   \n",
      "                                                   Student, part-time;Employed, part-time             Hybrid (some remote, some in-person)  ...   \n",
      "\n",
      "                                                                                                                                            JobSatPoints_6  \\\n",
      "MainBranch                                         Employment                                         RemoteWork                                             \n",
      "I am a developer by profession                     Employed, full-time                                Hybrid (some remote, some in-person)              72   \n",
      "                                                                                                      In-person                                         57   \n",
      "                                                                                                      Remote                                            66   \n",
      "                                                   Employed, full-time;Employed, part-time            Hybrid (some remote, some in-person)              15   \n",
      "                                                                                                      In-person                                         11   \n",
      "...                                                                                                                                                    ...   \n",
      "I used to be a developer by profession, but no ... Not employed, but looking for work;Independent ... Remote                                             0   \n",
      "                                                   Student, full-time;Employed, part-time             Hybrid (some remote, some in-person)               0   \n",
      "                                                                                                      In-person                                          0   \n",
      "                                                                                                      Remote                                             0   \n",
      "                                                   Student, part-time;Employed, part-time             Hybrid (some remote, some in-person)               0   \n",
      "\n",
      "                                                                                                                                            JobSatPoints_7  \\\n",
      "MainBranch                                         Employment                                         RemoteWork                                             \n",
      "I am a developer by profession                     Employed, full-time                                Hybrid (some remote, some in-person)              67   \n",
      "                                                                                                      In-person                                         59   \n",
      "                                                                                                      Remote                                            65   \n",
      "                                                   Employed, full-time;Employed, part-time            Hybrid (some remote, some in-person)              15   \n",
      "                                                                                                      In-person                                         10   \n",
      "...                                                                                                                                                    ...   \n",
      "I used to be a developer by profession, but no ... Not employed, but looking for work;Independent ... Remote                                             0   \n",
      "                                                   Student, full-time;Employed, part-time             Hybrid (some remote, some in-person)               0   \n",
      "                                                                                                      In-person                                          0   \n",
      "                                                                                                      Remote                                             0   \n",
      "                                                   Student, part-time;Employed, part-time             Hybrid (some remote, some in-person)               0   \n",
      "\n",
      "                                                                                                                                            JobSatPoints_8  \\\n",
      "MainBranch                                         Employment                                         RemoteWork                                             \n",
      "I am a developer by profession                     Employed, full-time                                Hybrid (some remote, some in-person)              71   \n",
      "                                                                                                      In-person                                         54   \n",
      "                                                                                                      Remote                                            66   \n",
      "                                                   Employed, full-time;Employed, part-time            Hybrid (some remote, some in-person)              16   \n",
      "                                                                                                      In-person                                          9   \n",
      "...                                                                                                                                                    ...   \n",
      "I used to be a developer by profession, but no ... Not employed, but looking for work;Independent ... Remote                                             0   \n",
      "                                                   Student, full-time;Employed, part-time             Hybrid (some remote, some in-person)               0   \n",
      "                                                                                                      In-person                                          0   \n",
      "                                                                                                      Remote                                             0   \n",
      "                                                   Student, part-time;Employed, part-time             Hybrid (some remote, some in-person)               0   \n",
      "\n",
      "                                                                                                                                            JobSatPoints_9  \\\n",
      "MainBranch                                         Employment                                         RemoteWork                                             \n",
      "I am a developer by profession                     Employed, full-time                                Hybrid (some remote, some in-person)              64   \n",
      "                                                                                                      In-person                                         57   \n",
      "                                                                                                      Remote                                            56   \n",
      "                                                   Employed, full-time;Employed, part-time            Hybrid (some remote, some in-person)              14   \n",
      "                                                                                                      In-person                                          9   \n",
      "...                                                                                                                                                    ...   \n",
      "I used to be a developer by profession, but no ... Not employed, but looking for work;Independent ... Remote                                             0   \n",
      "                                                   Student, full-time;Employed, part-time             Hybrid (some remote, some in-person)               0   \n",
      "                                                                                                      In-person                                          0   \n",
      "                                                                                                      Remote                                             0   \n",
      "                                                   Student, part-time;Employed, part-time             Hybrid (some remote, some in-person)               0   \n",
      "\n",
      "                                                                                                                                            JobSatPoints_10  \\\n",
      "MainBranch                                         Employment                                         RemoteWork                                              \n",
      "I am a developer by profession                     Employed, full-time                                Hybrid (some remote, some in-person)               59   \n",
      "                                                                                                      In-person                                          46   \n",
      "                                                                                                      Remote                                             46   \n",
      "                                                   Employed, full-time;Employed, part-time            Hybrid (some remote, some in-person)               12   \n",
      "                                                                                                      In-person                                           5   \n",
      "...                                                                                                                                                     ...   \n",
      "I used to be a developer by profession, but no ... Not employed, but looking for work;Independent ... Remote                                              0   \n",
      "                                                   Student, full-time;Employed, part-time             Hybrid (some remote, some in-person)                0   \n",
      "                                                                                                      In-person                                           0   \n",
      "                                                                                                      Remote                                              0   \n",
      "                                                   Student, part-time;Employed, part-time             Hybrid (some remote, some in-person)                0   \n",
      "\n",
      "                                                                                                                                            JobSatPoints_11  \\\n",
      "MainBranch                                         Employment                                         RemoteWork                                              \n",
      "I am a developer by profession                     Employed, full-time                                Hybrid (some remote, some in-person)               60   \n",
      "                                                                                                      In-person                                          43   \n",
      "                                                                                                      Remote                                             49   \n",
      "                                                   Employed, full-time;Employed, part-time            Hybrid (some remote, some in-person)               11   \n",
      "                                                                                                      In-person                                           7   \n",
      "...                                                                                                                                                     ...   \n",
      "I used to be a developer by profession, but no ... Not employed, but looking for work;Independent ... Remote                                              0   \n",
      "                                                   Student, full-time;Employed, part-time             Hybrid (some remote, some in-person)                0   \n",
      "                                                                                                      In-person                                           0   \n",
      "                                                                                                      Remote                                              0   \n",
      "                                                   Student, part-time;Employed, part-time             Hybrid (some remote, some in-person)                0   \n",
      "\n",
      "                                                                                                                                            SurveyLength  \\\n",
      "MainBranch                                         Employment                                         RemoteWork                                           \n",
      "I am a developer by profession                     Employed, full-time                                Hybrid (some remote, some in-person)             3   \n",
      "                                                                                                      In-person                                        3   \n",
      "                                                                                                      Remote                                           3   \n",
      "                                                   Employed, full-time;Employed, part-time            Hybrid (some remote, some in-person)             3   \n",
      "                                                                                                      In-person                                        2   \n",
      "...                                                                                                                                                  ...   \n",
      "I used to be a developer by profession, but no ... Not employed, but looking for work;Independent ... Remote                                           3   \n",
      "                                                   Student, full-time;Employed, part-time             Hybrid (some remote, some in-person)             1   \n",
      "                                                                                                      In-person                                        1   \n",
      "                                                                                                      Remote                                           1   \n",
      "                                                   Student, part-time;Employed, part-time             Hybrid (some remote, some in-person)             2   \n",
      "\n",
      "                                                                                                                                            SurveyEase  \\\n",
      "MainBranch                                         Employment                                         RemoteWork                                         \n",
      "I am a developer by profession                     Employed, full-time                                Hybrid (some remote, some in-person)           3   \n",
      "                                                                                                      In-person                                      3   \n",
      "                                                                                                      Remote                                         3   \n",
      "                                                   Employed, full-time;Employed, part-time            Hybrid (some remote, some in-person)           2   \n",
      "                                                                                                      In-person                                      2   \n",
      "...                                                                                                                                                ...   \n",
      "I used to be a developer by profession, but no ... Not employed, but looking for work;Independent ... Remote                                         2   \n",
      "                                                   Student, full-time;Employed, part-time             Hybrid (some remote, some in-person)           2   \n",
      "                                                                                                      In-person                                      2   \n",
      "                                                                                                      Remote                                         1   \n",
      "                                                   Student, part-time;Employed, part-time             Hybrid (some remote, some in-person)           2   \n",
      "\n",
      "                                                                                                                                            ConvertedCompYearly  \\\n",
      "MainBranch                                         Employment                                         RemoteWork                                                  \n",
      "I am a developer by profession                     Employed, full-time                                Hybrid (some remote, some in-person)                 2550   \n",
      "                                                                                                      In-person                                            1561   \n",
      "                                                                                                      Remote                                               2284   \n",
      "                                                   Employed, full-time;Employed, part-time            Hybrid (some remote, some in-person)                   39   \n",
      "                                                                                                      In-person                                               8   \n",
      "...                                                                                                                                                         ...   \n",
      "I used to be a developer by profession, but no ... Not employed, but looking for work;Independent ... Remote                                                  0   \n",
      "                                                   Student, full-time;Employed, part-time             Hybrid (some remote, some in-person)                    0   \n",
      "                                                                                                      In-person                                               0   \n",
      "                                                                                                      Remote                                                  0   \n",
      "                                                   Student, part-time;Employed, part-time             Hybrid (some remote, some in-person)                    0   \n",
      "\n",
      "                                                                                                                                            JobSat  \n",
      "MainBranch                                         Employment                                         RemoteWork                                    \n",
      "I am a developer by profession                     Employed, full-time                                Hybrid (some remote, some in-person)      11  \n",
      "                                                                                                      In-person                                 11  \n",
      "                                                                                                      Remote                                    11  \n",
      "                                                   Employed, full-time;Employed, part-time            Hybrid (some remote, some in-person)       8  \n",
      "                                                                                                      In-person                                  8  \n",
      "...                                                                                                                                            ...  \n",
      "I used to be a developer by profession, but no ... Not employed, but looking for work;Independent ... Remote                                     0  \n",
      "                                                   Student, full-time;Employed, part-time             Hybrid (some remote, some in-person)       0  \n",
      "                                                                                                      In-person                                  0  \n",
      "                                                                                                      Remote                                     0  \n",
      "                                                   Student, part-time;Employed, part-time             Hybrid (some remote, some in-person)       0  \n",
      "\n",
      "[319 rows x 111 columns]\n"
     ]
    }
   ],
   "source": [
    "# Get stats on columns that often repeat within these duplicates\n",
    "similarity_check = subset_duplicates.groupby(['MainBranch', 'Employment', 'RemoteWork']).agg(lambda x: x.nunique())\n",
    "print(similarity_check)"
   ]
  },
  {
   "cell_type": "markdown",
   "metadata": {},
   "source": [
    "### Task 3: Visualize Duplicates Distribution\n",
    "1. Create visualizations to show the distribution of duplicates across different categories.\n",
    "2. Use bar charts or pie charts to represent the distribution of duplicates by Country and Employment.\n"
   ]
  },
  {
   "cell_type": "code",
   "execution_count": 16,
   "metadata": {},
   "outputs": [],
   "source": [
    "# Identify full duplicate rows\n",
    "duplicate_rows = df[df.duplicated(keep=False)]"
   ]
  },
  {
   "cell_type": "code",
   "execution_count": 19,
   "metadata": {},
   "outputs": [
    {
     "name": "stdout",
     "output_type": "stream",
     "text": [
      "No duplicate data available to plot for Country.\n"
     ]
    }
   ],
   "source": [
    "# Duplicates based on selected columns\n",
    "subset_duplicates = df[df.duplicated(subset=['MainBranch', 'Employment', 'RemoteWork'], keep=False)]\n",
    "if not country_counts.empty:\n",
    "    plt.figure(figsize=(10,5))\n",
    "    country_counts.plot(kind='bar', color='cornflowerblue')\n",
    "    plt.title('Duplicate Distribution by Country')\n",
    "    plt.xlabel('Country')\n",
    "    plt.ylabel('Count')\n",
    "    plt.xticks(rotation=90)\n",
    "    plt.tight_layout()\n",
    "    plt.show()\n",
    "else:\n",
    "    print(\"No duplicate data available to plot for Country.\")"
   ]
  },
  {
   "cell_type": "code",
   "execution_count": 20,
   "metadata": {},
   "outputs": [
    {
     "data": {
      "image/png": "[encoded data removed]",
      "text/plain": [
       "<Figure size 640x480 with 1 Axes>"
      ]
     },
     "metadata": {},
     "output_type": "display_data"
    },
    {
     "data": {
      "image/png": "[encoded data removed]",
      "text/plain": [
       "<Figure size 640x480 with 1 Axes>"
      ]
     },
     "metadata": {},
     "output_type": "display_data"
    }
   ],
   "source": [
    "top_countries = df['Country'].value_counts().head(10)\n",
    "top_employment = df['Employment'].value_counts().head(10)\n",
    "\n",
    "# Plot top countries\n",
    "top_countries.plot(kind='barh', color='teal')\n",
    "plt.title('Top 10 Countries by Response Count')\n",
    "plt.xlabel('Count')\n",
    "plt.tight_layout()\n",
    "plt.show()\n",
    "\n",
    "# Plot top employment types\n",
    "top_employment.plot(kind='barh', color='orchid')\n",
    "plt.title('Top 10 Employment Types by Response Count')\n",
    "plt.xlabel('Count')\n",
    "plt.tight_layout()\n",
    "plt.show()"
   ]
  },
  {
   "cell_type": "markdown",
   "metadata": {},
   "source": [
    "### Task 4: Strategic Removal of Duplicates\n",
    "1. Decide which columns are critical for defining uniqueness in the dataset.\n",
    "2. Remove duplicates based on a subset of columns if complete row duplication is not a good criterion.\n"
   ]
  },
  {
   "cell_type": "code",
   "execution_count": 66,
   "metadata": {},
   "outputs": [
    {
     "name": "stdout",
     "output_type": "stream",
     "text": [
      "   ResponseId                      MainBranch           Employment RemoteWork  \\\n",
      "0           1  I am a developer by profession  Employed, full-time     Remote   \n",
      "1           2  I am a developer by profession  Employed, full-time     Remote   \n",
      "2           3  I am a developer by profession  Employed, full-time     Remote   \n",
      "3           4           I am learning to code   Student, full-time        NaN   \n",
      "4           5  I am a developer by profession   Student, full-time        NaN   \n",
      "\n",
      "                                             Country  \n",
      "0                           United States of America  \n",
      "1  United Kingdom of Great Britain and Northern I...  \n",
      "2  United Kingdom of Great Britain and Northern I...  \n",
      "3                                             Canada  \n",
      "4                                             Norway  \n"
     ]
    }
   ],
   "source": [
    "## Write your code here\n",
    "print(df[['ResponseId', 'MainBranch', 'Employment', 'RemoteWork', 'Country']].head())"
   ]
  },
  {
   "cell_type": "code",
   "execution_count": 67,
   "metadata": {},
   "outputs": [],
   "source": [
    "# Remove duplicates based on selected subset of columns\n",
    "df_unique = df.drop_duplicates(subset=['MainBranch', 'Employment', 'RemoteWork'])"
   ]
  },
  {
   "cell_type": "markdown",
   "metadata": {},
   "source": [
    "## Verify and Document Duplicate Removal Process\n"
   ]
  },
  {
   "cell_type": "markdown",
   "metadata": {},
   "source": [
    "### Task 5: Documentation\n",
    "1. Document the process of identifying and removing duplicates.\n"
   ]
  },
  {
   "cell_type": "raw",
   "metadata": {},
   "source": [
    "# Write your explanation here\n",
    "Identify Full-Row Duplicates using df.duplicated().sum()\n",
    "Displaying duplicate rows using df[df.duplicated()].head()\n",
    "Analyzing Based on Selected Columns df[df.duplicated(subset=['MainBranch', 'Employment', 'RemoteWork'], keep=False)]\n",
    "Removing Duplicates "
   ]
  },
  {
   "cell_type": "markdown",
   "metadata": {},
   "source": [
    "2. Explain the reasoning behind selecting specific columns for identifying and removing duplicates.\n"
   ]
  },
  {
   "cell_type": "raw",
   "metadata": {},
   "source": [
    "# Write your explanation here\n",
    "Why Mainbranch, Employment, RemoteWork?\n",
    "These columns were chosen because they represent high-level identifiers of a participant’s professional profile:\n",
    "\n",
    "MainBranch: Distinguishes learners from full-time professionals—fundamental for segmentation.\n",
    "\n",
    "Employment: Reveals working status, which reflects engagement in the tech field.\n",
    "\n",
    "RemoteWork: Adds context to work style, which could influence other responses (like job satisfaction)."
   ]
  },
  {
   "cell_type": "markdown",
   "metadata": {},
   "source": [
    "### Summary and Next Steps\n",
    "**In this lab, you focused on identifying and analyzing duplicate rows within the dataset.**\n",
    "\n",
    "- You employed various techniques to explore the nature of duplicates and applied strategic methods for their removal.\n",
    "- For additional analysis, consider investigating the impact of duplicates on specific analyses and how their removal affects the results.\n",
    "- This version of the lab is more focused on duplicate analysis and handling, providing a structured approach to deal with duplicates in a dataset effectively.\n"
   ]
  },
  {
   "cell_type": "markdown",
   "metadata": {},
   "source": [
    "<!--\n",
    "## Change Log\n",
    "|Date (YYYY-MM-DD)|Version|Changed By|Change Description|\n",
    "|-|-|-|-|\n",
    "|2024-11- 05|1.3|Madhusudhan Moole|Updated lab|\n",
    "|2024-10-28|1.2|Madhusudhan Moole|Updated lab|\n",
    "|2024-09-24|1.1|Madhusudhan Moole|Updated lab|\n",
    "|2024-09-23|1.0|Raghul Ramesh|Created lab|\n",
    "--!>\n"
   ]
  },
  {
   "cell_type": "markdown",
   "metadata": {},
   "source": [
    "Copyright © IBM Corporation. All rights reserved.\n"
   ]
  }
 ],
 "metadata": {
  "kernelspec": {
   "display_name": "Python 3 (ipykernel)",
   "language": "python",
   "name": "python3"
  },
  "language_info": {
   "codemirror_mode": {
    "name": "ipython",
    "version": 3
   },
   "file_extension": ".py",
   "mimetype": "text/x-python",
   "name": "python",
   "nbconvert_exporter": "python",
   "pygments_lexer": "ipython3",
   "version": "3.12.8"
  },
  "prev_pub_hash": "fa3493caccf457f2b33a3a72ca6bf5789c2ce4157ea6e40534b09cc8380e8ae5"
 },
 "nbformat": 4,
 "nbformat_minor": 4
}
